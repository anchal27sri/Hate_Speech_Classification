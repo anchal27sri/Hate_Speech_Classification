{
 "cells": [
  {
   "cell_type": "code",
   "execution_count": 1,
   "metadata": {
    "_cell_guid": "b1076dfc-b9ad-4769-8c92-a6c4dae69d19",
    "_kg_hide-input": true,
    "_uuid": "8f2839f25d086af736a60e9eeb907d3b93b6e0e5"
   },
   "outputs": [
    {
     "name": "stderr",
     "output_type": "stream",
     "text": [
      "Using TensorFlow backend.\n"
     ]
    }
   ],
   "source": [
    "from keras.preprocessing.text import Tokenizer\n",
    "from keras.preprocessing.sequence import pad_sequences, sequence\n",
    "from keras.models import Sequential\n",
    "from keras.layers import Dense, Flatten, CuDNNLSTM, LSTM, Conv1D, MaxPooling1D, Dropout, Activation\n",
    "from keras.layers.embeddings import Embedding\n",
    "from keras import optimizers,metrics,layers\n",
    "import matplotlib.pyplot as plt\n",
    "## Plot\n",
    "# NLTK\n",
    "import nltk\n",
    "from nltk.corpus import stopwords\n",
    "from nltk.stem import SnowballStemmer\n",
    "\n",
    "# Other\n",
    "import re\n",
    "import string\n",
    "import numpy as np\n",
    "import pandas as pd\n",
    "from sklearn.manifold import TSNE"
   ]
  },
  {
   "cell_type": "code",
   "execution_count": 2,
   "metadata": {
    "_uuid": "190b3ccb386a46a7978868361cb9e574a147c019"
   },
   "outputs": [],
   "source": [
    "w2vdf = pd.read_csv('../input/word2vec.csv')"
   ]
  },
  {
   "cell_type": "code",
   "execution_count": 3,
   "metadata": {
    "_uuid": "47ae2222294aeef32410e455e2656d2039acda0c"
   },
   "outputs": [
    {
     "data": {
      "text/html": [
       "<div>\n",
       "<style scoped>\n",
       "    .dataframe tbody tr th:only-of-type {\n",
       "        vertical-align: middle;\n",
       "    }\n",
       "\n",
       "    .dataframe tbody tr th {\n",
       "        vertical-align: top;\n",
       "    }\n",
       "\n",
       "    .dataframe thead th {\n",
       "        text-align: right;\n",
       "    }\n",
       "</style>\n",
       "<table border=\"1\" class=\"dataframe\">\n",
       "  <thead>\n",
       "    <tr style=\"text-align: right;\">\n",
       "      <th></th>\n",
       "      <th>Unnamed: 0</th>\n",
       "      <th>0</th>\n",
       "      <th>1</th>\n",
       "    </tr>\n",
       "  </thead>\n",
       "  <tbody>\n",
       "    <tr>\n",
       "      <th>0</th>\n",
       "      <td>0</td>\n",
       "      <td>the</td>\n",
       "      <td>[2.62178   2.4556017 2.081975  2.006189  2.915...</td>\n",
       "    </tr>\n",
       "    <tr>\n",
       "      <th>1</th>\n",
       "      <td>1</td>\n",
       "      <td>to</td>\n",
       "      <td>[2.392987  2.33495   1.8192794 1.637305  2.500...</td>\n",
       "    </tr>\n",
       "    <tr>\n",
       "      <th>2</th>\n",
       "      <td>2</td>\n",
       "      <td>i</td>\n",
       "      <td>[2.2249963 2.1055882 1.9827801 1.6818206 2.346...</td>\n",
       "    </tr>\n",
       "    <tr>\n",
       "      <th>3</th>\n",
       "      <td>3</td>\n",
       "      <td>and</td>\n",
       "      <td>[2.3818252 2.2474759 1.9917579 1.923944  2.770...</td>\n",
       "    </tr>\n",
       "    <tr>\n",
       "      <th>4</th>\n",
       "      <td>4</td>\n",
       "      <td>a</td>\n",
       "      <td>[2.4556684 2.0998123 1.8610787 1.8022392 2.502...</td>\n",
       "    </tr>\n",
       "  </tbody>\n",
       "</table>\n",
       "</div>"
      ],
      "text/plain": [
       "   Unnamed: 0                        ...                                                                          1\n",
       "0           0                        ...                          [2.62178   2.4556017 2.081975  2.006189  2.915...\n",
       "1           1                        ...                          [2.392987  2.33495   1.8192794 1.637305  2.500...\n",
       "2           2                        ...                          [2.2249963 2.1055882 1.9827801 1.6818206 2.346...\n",
       "3           3                        ...                          [2.3818252 2.2474759 1.9917579 1.923944  2.770...\n",
       "4           4                        ...                          [2.4556684 2.0998123 1.8610787 1.8022392 2.502...\n",
       "\n",
       "[5 rows x 3 columns]"
      ]
     },
     "execution_count": 3,
     "metadata": {},
     "output_type": "execute_result"
    }
   ],
   "source": [
    "w2vdf.head()"
   ]
  },
  {
   "cell_type": "code",
   "execution_count": 4,
   "metadata": {
    "_uuid": "e273cb6c41da2e537e6baf700173969719cb5040"
   },
   "outputs": [],
   "source": [
    "vocab = ['unk']\n",
    "g = dict()\n",
    "g['unk'] = np.array([0]*300)\n",
    "for i in range(w2vdf.shape[0]):\n",
    "    g[w2vdf.iloc[i,1]] = np.fromstring(w2vdf.iloc[i,2][1:-1],dtype = float,sep = ' ')\n",
    "    vocab.append(w2vdf.iloc[i,1])\n",
    "#print(g)"
   ]
  },
  {
   "cell_type": "code",
   "execution_count": 5,
   "metadata": {
    "_uuid": "05b8afe91a4619e11d9d8457620ab6a64eaa2d7c",
    "scrolled": true
   },
   "outputs": [
    {
     "name": "stdout",
     "output_type": "stream",
     "text": [
      "                                                 text  label\n",
      "0   as of march 13th 2014 the booklet had been dow...      0\n",
      "1   in order to help increase the booklets downloa...      0\n",
      "2   simply copy and paste the following text into ...      0\n",
      "3   click below for a free download of a colorfull...      1\n",
      "4     click on the download 7 42 mb green banner link      0\n",
      "5                    booklet updated on feb 14th 2014      0\n",
      "6                      now with over 18 300 downloads      0\n",
      "7   then why not simply copy this text links and p...      0\n",
      "8   thank you in advance download the youtube desc...      0\n",
      "9   she may or may not be a jew but she s certainl...      1\n",
      "10  thank you for the info i will deffinetly look ...      0\n",
      "11  i hope there is room for one more as i am very...      0\n",
      "12           i just came across this piece of garbage      0\n",
      "13                        comments say she is from sa      0\n",
      "14  die antwoord cookie thumper official video you...      0\n",
      "15    the whites are more in the range of 4 8 million      0\n",
      "16  i believe this can be higher since i ve read r...      0\n",
      "17                   thank you for posting your story      0\n",
      "18            i think you should write a book as well      0\n",
      "19  i ve always considered teaching as one of the ...      1\n"
     ]
    },
    {
     "data": {
      "text/plain": [
       "(9925, 2)"
      ]
     },
     "execution_count": 5,
     "metadata": {},
     "output_type": "execute_result"
    }
   ],
   "source": [
    "datadf = pd.read_csv('../input/data.csv')\n",
    "datadf = datadf.iloc[:, 1:]\n",
    "datadf.columns = ['text', 'label']\n",
    "df = datadf\n",
    "print(df.head(20))\n",
    "df.shape"
   ]
  },
  {
   "cell_type": "code",
   "execution_count": 6,
   "metadata": {
    "_uuid": "19e40c324f36e0820ec914ea081656668f182aba"
   },
   "outputs": [],
   "source": [
    "labels = [df.at[i,'label'] for i in range(df.shape[0])]"
   ]
  },
  {
   "cell_type": "code",
   "execution_count": 7,
   "metadata": {
    "_uuid": "3dd5f10fea0e419c82fba6c44d0252348d4d96c2"
   },
   "outputs": [],
   "source": [
    "def cnfmatrix(y_test,results):\n",
    "    fp = 0.0\n",
    "    fn = 0.0\n",
    "    tp = 0.0\n",
    "    tn = 0.0\n",
    "    t = 0.0\n",
    "    n = 0.0\n",
    "    results.shape\n",
    "    for i in range(results.shape[0]):\n",
    "        if y_test[i]==1 and results[i]==1:\n",
    "            tp+=1\n",
    "            t+=1\n",
    "        elif y_test[i]==1 and results[i]==0:\n",
    "            fn+=1\n",
    "            t+=1\n",
    "        elif y_test[i]==0 and results[i]==1:\n",
    "            fp+=1\n",
    "            n+=1\n",
    "        elif y_test[i]==0 and results[i]==0:\n",
    "            tn+=1\n",
    "            n+=1\n",
    "    print(tp/results.shape[0],fp/results.shape[0])\n",
    "    print(fn/results.shape[0],tn/results.shape[0])\n",
    "    Precision  = tp/(tp+fp)\n",
    "    Recall = tp/(tp+fn)\n",
    "    print(\"Precision: \",Precision,\"Recall: \",Recall)\n",
    "    f1score = (2*Precision*Recall)/(Precision+Recall)\n",
    "    print(\"f1score: \",f1score)\n",
    "    print(\"accuracy: \",(tp+tn)/results.shape[0])\n",
    "    print(\"hate_acc: \", (tp)/t)\n",
    "    print(\"non_hate_acc: \", (tn)/n)"
   ]
  },
  {
   "cell_type": "code",
   "execution_count": 8,
   "metadata": {
    "_uuid": "c2c6d24667902e9c1b2eed8e8ec06b3e97ab0a3e"
   },
   "outputs": [],
   "source": [
    "def clean_text(text):\n",
    "    \n",
    "    ## Remove puncuation\n",
    "    text = text.translate(string.punctuation)\n",
    "    \n",
    "    ## Convert words to lower case and split them\n",
    "    text = text.lower().split()\n",
    "    \n",
    "    ## Remove stop words\n",
    "#     stops = set(stopwords.words(\"english\"))\n",
    "#     text = [w for w in text if not w in stops and len(w) >= 3]\n",
    "    \n",
    "    text = \" \".join(text)\n",
    "\n",
    "    # Clean the text\n",
    "    text = re.sub(r\"[^A-Za-z0-9^,!.\\/'+-=]\", \" \", text)\n",
    "    #text = re.sub(r\"what's\", \"what is \", text)\n",
    "    text = re.sub(r\"\\'s\", \" \", text)\n",
    "    text = re.sub(r\"\\'ve\", \" have \", text)\n",
    "    text = re.sub(r\",\", \" \", text)\n",
    "    text = re.sub(r\"\\.\", \" \", text)\n",
    "    text = re.sub(r\"!\", \"\", text)\n",
    "    text = re.sub(r\"\\/\", \"\", text)\n",
    "    text = re.sub(r\"\\^\", \"\", text)\n",
    "    text = re.sub(r\"\\+\", \"\", text)\n",
    "    text = re.sub(r\"\\-\", \"\", text)\n",
    "    text = re.sub(r\"\\=\", \"\", text)\n",
    "    text = re.sub(r\"'\", \" \", text)\n",
    "    \n",
    "    return text"
   ]
  },
  {
   "cell_type": "code",
   "execution_count": 9,
   "metadata": {
    "_uuid": "a69d34edd781f08aa51db1bf3b5a52d1e0757533"
   },
   "outputs": [
    {
     "data": {
      "text/html": [
       "<div>\n",
       "<style scoped>\n",
       "    .dataframe tbody tr th:only-of-type {\n",
       "        vertical-align: middle;\n",
       "    }\n",
       "\n",
       "    .dataframe tbody tr th {\n",
       "        vertical-align: top;\n",
       "    }\n",
       "\n",
       "    .dataframe thead th {\n",
       "        text-align: right;\n",
       "    }\n",
       "</style>\n",
       "<table border=\"1\" class=\"dataframe\">\n",
       "  <thead>\n",
       "    <tr style=\"text-align: right;\">\n",
       "      <th></th>\n",
       "      <th>text</th>\n",
       "      <th>label</th>\n",
       "    </tr>\n",
       "  </thead>\n",
       "  <tbody>\n",
       "    <tr>\n",
       "      <th>0</th>\n",
       "      <td>as of march 13th 2014 the booklet had been dow...</td>\n",
       "      <td>0</td>\n",
       "    </tr>\n",
       "    <tr>\n",
       "      <th>1</th>\n",
       "      <td>in order to help increase the booklets downloa...</td>\n",
       "      <td>0</td>\n",
       "    </tr>\n",
       "    <tr>\n",
       "      <th>2</th>\n",
       "      <td>simply copy and paste the following text into ...</td>\n",
       "      <td>0</td>\n",
       "    </tr>\n",
       "    <tr>\n",
       "      <th>3</th>\n",
       "      <td>click below for a free download of a colorfull...</td>\n",
       "      <td>1</td>\n",
       "    </tr>\n",
       "    <tr>\n",
       "      <th>4</th>\n",
       "      <td>click on the download 7 42 mb green banner link</td>\n",
       "      <td>0</td>\n",
       "    </tr>\n",
       "  </tbody>\n",
       "</table>\n",
       "</div>"
      ],
      "text/plain": [
       "                                                text  label\n",
       "0  as of march 13th 2014 the booklet had been dow...      0\n",
       "1  in order to help increase the booklets downloa...      0\n",
       "2  simply copy and paste the following text into ...      0\n",
       "3  click below for a free download of a colorfull...      1\n",
       "4    click on the download 7 42 mb green banner link      0"
      ]
     },
     "execution_count": 9,
     "metadata": {},
     "output_type": "execute_result"
    }
   ],
   "source": [
    "df.head()"
   ]
  },
  {
   "cell_type": "code",
   "execution_count": 10,
   "metadata": {
    "_uuid": "f7e84e7468ebc4af36d4f4b90d8bc910a63bb9b3"
   },
   "outputs": [
    {
     "data": {
      "text/plain": [
       "0       0\n",
       "1       0\n",
       "2       0\n",
       "3       1\n",
       "4       0\n",
       "5       0\n",
       "6       0\n",
       "7       0\n",
       "8       0\n",
       "9       1\n",
       "10      0\n",
       "11      0\n",
       "12      0\n",
       "13      0\n",
       "14      0\n",
       "15      0\n",
       "16      0\n",
       "17      0\n",
       "18      0\n",
       "19      1\n",
       "20      1\n",
       "21      0\n",
       "22      0\n",
       "23      0\n",
       "24      0\n",
       "25      0\n",
       "26      0\n",
       "27      0\n",
       "28      0\n",
       "29      1\n",
       "       ..\n",
       "9895    0\n",
       "9896    0\n",
       "9897    0\n",
       "9898    0\n",
       "9899    0\n",
       "9900    0\n",
       "9901    0\n",
       "9902    0\n",
       "9903    0\n",
       "9904    0\n",
       "9905    0\n",
       "9906    0\n",
       "9907    0\n",
       "9908    0\n",
       "9909    0\n",
       "9910    0\n",
       "9911    1\n",
       "9912    0\n",
       "9913    0\n",
       "9914    1\n",
       "9915    0\n",
       "9916    0\n",
       "9917    0\n",
       "9918    0\n",
       "9919    0\n",
       "9920    0\n",
       "9921    0\n",
       "9922    0\n",
       "9923    1\n",
       "9924    0\n",
       "Name: label, Length: 9925, dtype: int64"
      ]
     },
     "execution_count": 10,
     "metadata": {},
     "output_type": "execute_result"
    }
   ],
   "source": [
    "df.iloc[:, 1]"
   ]
  },
  {
   "cell_type": "code",
   "execution_count": 11,
   "metadata": {
    "_uuid": "231ba6795ca842e8ff412c3b4078432844ae1ca3",
    "scrolled": true
   },
   "outputs": [
    {
     "name": "stdout",
     "output_type": "stream",
     "text": [
      "[]\n"
     ]
    }
   ],
   "source": [
    "data = []\n",
    "print(data)\n",
    "for i in range(df.shape[0]):\n",
    "    b = df.at[i,'text'].split()\n",
    "    p = []\n",
    "    for j in b:\n",
    "        #print(pdict[j])\n",
    "        p.append(g[j])\n",
    "    p = p + [g['unk']]*(50-len(p))\n",
    "    data.append(p)\n",
    "labels = np.array(labels)\n",
    "labels.shape\n",
    "ts = 7000\n",
    "#print(data[:10])"
   ]
  },
  {
   "cell_type": "code",
   "execution_count": 12,
   "metadata": {
    "_uuid": "16959c919363ed9485b5c3261842112bc90b3297"
   },
   "outputs": [
    {
     "name": "stdout",
     "output_type": "stream",
     "text": [
      "(7000, 50, 300)\n",
      "(7000,)\n",
      "(2925, 50, 300)\n",
      "(2925,)\n"
     ]
    }
   ],
   "source": [
    "from sklearn import preprocessing\n",
    "data = np.array(data,dtype=float)\n",
    "temp = np.zeros(data.shape)\n",
    "\n",
    "for i in range(data.shape[0]):\n",
    "        temp[i] = preprocessing.normalize(data[i])\n",
    "#print(temp[0][0])\n",
    "datab = np.array([[vocab.index(j) for j in df.iloc[i,0].split()] for i in range(df.shape[0])])\n",
    "datab = sequence.pad_sequences(datab, maxlen=50)\n",
    "xb_train = datab[:ts]\n",
    "xb_test = datab[ts:]\n",
    "x_train,y_train = temp[:ts],labels[:ts]\n",
    "x_test,y_test = temp[ts:],labels[ts:]\n",
    "print(x_train.shape)\n",
    "print(y_train.shape)\n",
    "print(x_test.shape)\n",
    "print(y_test.shape)\n"
   ]
  },
  {
   "cell_type": "code",
   "execution_count": 13,
   "metadata": {
    "_uuid": "56184f631b050f10764ad39afe54972cb4322afb",
    "scrolled": true
   },
   "outputs": [
    {
     "data": {
      "text/plain": [
       "array([    0,     0,     0,     0,     0,     0,     0,     0,     0,\n",
       "           0,     0,     0,     0,     0,     0,     0,     0,     0,\n",
       "           0,     0,     0,     3,  1262,  3052,   300,     4,  4540,\n",
       "         472,   800,  2203,     1,   397,     6,  3615,    10,    21,\n",
       "         991,    12,  4540,   472,    27,    62,  1564,   573, 12281,\n",
       "           2,    24,  1898,    60, 12282], dtype=int32)"
      ]
     },
     "execution_count": 13,
     "metadata": {},
     "output_type": "execute_result"
    }
   ],
   "source": [
    "xb_train[-1]"
   ]
  },
  {
   "cell_type": "code",
   "execution_count": 39,
   "metadata": {
    "_uuid": "ac8c3327ecdce1be92746681597d98363d409695",
    "scrolled": true
   },
   "outputs": [],
   "source": [
    "from keras.wrappers.scikit_learn import KerasRegressor,KerasClassifier\n",
    "from sklearn.ensemble import AdaBoostClassifier, GradientBoostingClassifier\n",
    "embedding_matrix = np.array([g[i] for i in vocab])\n",
    "def the_models():\n",
    "    model = Sequential()\n",
    "    model.add(Embedding(len(vocab), 300, input_length=50, trainable=True))\n",
    "    #model.add(layers.Dense(50,activation = 'linear'))\n",
    "    model.add(CuDNNLSTM(50,return_sequences=True))\n",
    "    model.add(CuDNNLSTM(50))\n",
    "    model.add(layers.Dense(20,activation = 'relu'))\n",
    "    model.add(layers.Dense(1,activation = 'sigmoid'))\n",
    "    #sgd = optimizers.SGD(lr=0.0001, decay=0.001, momentum=0.0, nesterov=True)\n",
    "    model.compile(loss='binary_crossentropy',optimizer='adam',metrics=['accuracy'])\n",
    "    return model\n",
    "\n",
    "\n",
    "#ann_estimator = KerasClassifier(build_fn = the_models, epochs=10, batch_size=20, verbose=True)\n",
    "#boosted_ann = AdaBoostClassifier(base_estimator=ann_estimator, n_estimators = 1)\n",
    "\n",
    "#the_models()"
   ]
  },
  {
   "cell_type": "code",
   "execution_count": 51,
   "metadata": {
    "_uuid": "9284bf6322aca27092c682c0573df164b5f24b91",
    "scrolled": true
   },
   "outputs": [
    {
     "name": "stdout",
     "output_type": "stream",
     "text": [
      "Epoch 1/8\n",
      "7000/7000 [==============================] - 2s 321us/step - loss: 0.4042 - acc: 0.8723\n",
      "Epoch 2/8\n",
      "7000/7000 [==============================] - 1s 105us/step - loss: 0.2910 - acc: 0.8860\n",
      "Epoch 3/8\n",
      "7000/7000 [==============================] - 1s 104us/step - loss: 0.1570 - acc: 0.9404\n",
      "Epoch 4/8\n",
      "7000/7000 [==============================] - 1s 102us/step - loss: 0.0806 - acc: 0.9731\n",
      "Epoch 5/8\n",
      "7000/7000 [==============================] - 1s 104us/step - loss: 0.0482 - acc: 0.9837\n",
      "Epoch 6/8\n",
      "7000/7000 [==============================] - 1s 104us/step - loss: 0.0291 - acc: 0.9910\n",
      "Epoch 7/8\n",
      "7000/7000 [==============================] - 1s 103us/step - loss: 0.0189 - acc: 0.9954\n",
      "Epoch 8/8\n",
      "7000/7000 [==============================] - 1s 105us/step - loss: 0.0105 - acc: 0.9981\n"
     ]
    },
    {
     "data": {
      "text/plain": [
       "<keras.callbacks.History at 0x7f774e3f50f0>"
      ]
     },
     "execution_count": 51,
     "metadata": {},
     "output_type": "execute_result"
    }
   ],
   "source": [
    "model = the_models()\n",
    "history = model.fit(xb_train,y_train,epochs =8,batch_size=100)\n",
    "#boosted_ann.fit(xb_train, y_train)"
   ]
  },
  {
   "cell_type": "code",
   "execution_count": 53,
   "metadata": {
    "_uuid": "eb1f02d4579a0de98d908a89d36a15958323e5b3"
   },
   "outputs": [
    {
     "name": "stdout",
     "output_type": "stream",
     "text": [
      "2925/2925 [==============================] - 1s 172us/step\n",
      "2925\n"
     ]
    }
   ],
   "source": [
    "predictions = boosted_ann.predict_proba(xb_test)\n",
    "#results = results.tolist()\n",
    "results = [int(i[0]<i[1]) for i in predictions]\n",
    "print(len(results))"
   ]
  },
  {
   "cell_type": "code",
   "execution_count": 3,
   "metadata": {
    "_uuid": "2a36f20a1311657811a66e4e2e3c3bc5034f979f",
    "scrolled": true
   },
   "outputs": [],
   "source": [
    "# uncumment below lines to show loss graph\n",
    "# %matplotlib inline\n",
    "# import mpld3\n",
    "# mpld3.enable_notebook()\n",
    "# plt.plot(history.history['loss'])\n",
    "#plt.plot(history.history['val_loss'])\n",
    "# plt.show()"
   ]
  },
  {
   "cell_type": "code",
   "execution_count": 56,
   "metadata": {
    "_uuid": "5789a04083d7b4270c167068467c4ff8477640e6"
   },
   "outputs": [
    {
     "name": "stdout",
     "output_type": "stream",
     "text": [
      "0.046495726495726496 0.057777777777777775\n",
      "0.06358974358974359 0.8321367521367521\n",
      "Precision:  0.4459016393442623 Recall:  0.422360248447205\n",
      "f1score:  0.43381180223285487\n",
      "accuracy:  0.8786324786324786\n",
      "hate_acc:  0.422360248447205\n",
      "non_hate_acc:  0.9350749135612755\n"
     ]
    }
   ],
   "source": [
    "cnfmatrix(y_test,np.array(results))"
   ]
  }
 ],
 "metadata": {
  "kernelspec": {
   "display_name": "Python 3",
   "language": "python",
   "name": "python3"
  },
  "language_info": {
   "codemirror_mode": {
    "name": "ipython",
    "version": 3
   },
   "file_extension": ".py",
   "mimetype": "text/x-python",
   "name": "python",
   "nbconvert_exporter": "python",
   "pygments_lexer": "ipython3",
   "version": "3.7.3"
  }
 },
 "nbformat": 4,
 "nbformat_minor": 1
}
